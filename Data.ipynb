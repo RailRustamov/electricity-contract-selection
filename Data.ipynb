{
  "cells": [
    {
      "cell_type": "code",
      "execution_count": 1,
      "id": "aa50ed11",
      "metadata": {
        "id": "aa50ed11"
      },
      "outputs": [],
      "source": [
        "import pandas as pd\n",
        "import numpy as np\n",
        "import re"
      ]
    },
    {
      "cell_type": "code",
      "execution_count": 2,
      "id": "2c9e83a5",
      "metadata": {
        "id": "2c9e83a5"
      },
      "outputs": [],
      "source": [
        "df=pd.read_csv('Data.csv', header=None)"
      ]
    },
    {
      "cell_type": "code",
      "execution_count": 3,
      "id": "4dd15173",
      "metadata": {
        "colab": {
          "base_uri": "https://localhost:8080/",
          "height": 206
        },
        "id": "4dd15173",
        "outputId": "1027b9a1-976e-4a54-be95-e2f48cd455f4"
      },
      "outputs": [
        {
          "data": {
            "text/html": [
              "<div>\n",
              "<style scoped>\n",
              "    .dataframe tbody tr th:only-of-type {\n",
              "        vertical-align: middle;\n",
              "    }\n",
              "\n",
              "    .dataframe tbody tr th {\n",
              "        vertical-align: top;\n",
              "    }\n",
              "\n",
              "    .dataframe thead th {\n",
              "        text-align: right;\n",
              "    }\n",
              "</style>\n",
              "<table border=\"1\" class=\"dataframe\">\n",
              "  <thead>\n",
              "    <tr style=\"text-align: right;\">\n",
              "      <th></th>\n",
              "      <th>0</th>\n",
              "    </tr>\n",
              "  </thead>\n",
              "  <tbody>\n",
              "    <tr>\n",
              "      <th>0</th>\n",
              "      <td>3 PM  Mon 24th-Mar-2014___0.384 kwh</td>\n",
              "    </tr>\n",
              "    <tr>\n",
              "      <th>1</th>\n",
              "      <td>5AM  15-Aug-2014___1.201  kwh</td>\n",
              "    </tr>\n",
              "    <tr>\n",
              "      <th>2</th>\n",
              "      <td>__8PM Thu 20-Mar-2014____1.523 kwh</td>\n",
              "    </tr>\n",
              "    <tr>\n",
              "      <th>3</th>\n",
              "      <td>6PM  23rd-Apr-2014___0.424  kwh</td>\n",
              "    </tr>\n",
              "    <tr>\n",
              "      <th>4</th>\n",
              "      <td>_1AM  Friday 19th-Dec-2014___0.209  kwh</td>\n",
              "    </tr>\n",
              "  </tbody>\n",
              "</table>\n",
              "</div>"
            ],
            "text/plain": [
              "                                           0\n",
              "0      3 PM  Mon 24th-Mar-2014___0.384 kwh  \n",
              "1             5AM  15-Aug-2014___1.201  kwh \n",
              "2       __8PM Thu 20-Mar-2014____1.523 kwh  \n",
              "3            6PM  23rd-Apr-2014___0.424  kwh\n",
              "4  _1AM  Friday 19th-Dec-2014___0.209  kwh  "
            ]
          },
          "execution_count": 3,
          "metadata": {},
          "output_type": "execute_result"
        }
      ],
      "source": [
        "df.head()"
      ]
    },
    {
      "cell_type": "code",
      "execution_count": 4,
      "id": "a1f56420",
      "metadata": {
        "colab": {
          "base_uri": "https://localhost:8080/"
        },
        "id": "a1f56420",
        "outputId": "88324330-e71a-4c50-f80c-a07155d4afe5"
      },
      "outputs": [
        {
          "data": {
            "text/plain": [
              "0           3 PM  Mon 24th-Mar-2014___0.384 kwh  \n",
              "1                  5AM  15-Aug-2014___1.201  kwh \n",
              "2            __8PM Thu 20-Mar-2014____1.523 kwh  \n",
              "3                 6PM  23rd-Apr-2014___0.424  kwh\n",
              "4       _1AM  Friday 19th-Dec-2014___0.209  kwh  \n",
              "                          ...                    \n",
              "8755           _1AM  Fri 07th-Nov-2014_0.084 kwh \n",
              "8756                  _6AM 20-May-2014__1.027 kwh\n",
              "8757     __2 AM  Tuesday 8th-Apr-2014___0.052 kwh\n",
              "8758              9 PM 27th-Jan-2014_1.428  kwh  \n",
              "8759            _12 PM 25th-Aug-2014_0.528  kwh  \n",
              "Name: 0, Length: 8760, dtype: object"
            ]
          },
          "execution_count": 4,
          "metadata": {},
          "output_type": "execute_result"
        }
      ],
      "source": [
        "df[0]"
      ]
    },
    {
      "cell_type": "code",
      "execution_count": 5,
      "id": "1b2b9c52",
      "metadata": {
        "id": "1b2b9c52"
      },
      "outputs": [],
      "source": [
        "df[0]=df[0].apply(lambda d: re.sub(r'[_ ]', r'', d))"
      ]
    },
    {
      "cell_type": "code",
      "execution_count": 6,
      "id": "47c85e56",
      "metadata": {
        "colab": {
          "base_uri": "https://localhost:8080/",
          "height": 206
        },
        "id": "47c85e56",
        "outputId": "4471ed57-0a38-4c8f-a320-619fb880e962"
      },
      "outputs": [
        {
          "data": {
            "text/html": [
              "<div>\n",
              "<style scoped>\n",
              "    .dataframe tbody tr th:only-of-type {\n",
              "        vertical-align: middle;\n",
              "    }\n",
              "\n",
              "    .dataframe tbody tr th {\n",
              "        vertical-align: top;\n",
              "    }\n",
              "\n",
              "    .dataframe thead th {\n",
              "        text-align: right;\n",
              "    }\n",
              "</style>\n",
              "<table border=\"1\" class=\"dataframe\">\n",
              "  <thead>\n",
              "    <tr style=\"text-align: right;\">\n",
              "      <th></th>\n",
              "      <th>0</th>\n",
              "    </tr>\n",
              "  </thead>\n",
              "  <tbody>\n",
              "    <tr>\n",
              "      <th>0</th>\n",
              "      <td>3PMMon24th-Mar-20140.384kwh</td>\n",
              "    </tr>\n",
              "    <tr>\n",
              "      <th>1</th>\n",
              "      <td>5AM15-Aug-20141.201kwh</td>\n",
              "    </tr>\n",
              "    <tr>\n",
              "      <th>2</th>\n",
              "      <td>8PMThu20-Mar-20141.523kwh</td>\n",
              "    </tr>\n",
              "    <tr>\n",
              "      <th>3</th>\n",
              "      <td>6PM23rd-Apr-20140.424kwh</td>\n",
              "    </tr>\n",
              "    <tr>\n",
              "      <th>4</th>\n",
              "      <td>1AMFriday19th-Dec-20140.209kwh</td>\n",
              "    </tr>\n",
              "  </tbody>\n",
              "</table>\n",
              "</div>"
            ],
            "text/plain": [
              "                                0\n",
              "0     3PMMon24th-Mar-20140.384kwh\n",
              "1          5AM15-Aug-20141.201kwh\n",
              "2       8PMThu20-Mar-20141.523kwh\n",
              "3        6PM23rd-Apr-20140.424kwh\n",
              "4  1AMFriday19th-Dec-20140.209kwh"
            ]
          },
          "execution_count": 6,
          "metadata": {},
          "output_type": "execute_result"
        }
      ],
      "source": [
        "df.head()"
      ]
    },
    {
      "cell_type": "code",
      "execution_count": 7,
      "id": "552661df",
      "metadata": {
        "id": "552661df"
      },
      "outputs": [],
      "source": [
        "def for_time(a):\n",
        "    x=''\n",
        "    for i in a:\n",
        "        x+=i\n",
        "        if i=='M':\n",
        "            return x"
      ]
    },
    {
      "cell_type": "code",
      "execution_count": 8,
      "id": "b6d7e8ba",
      "metadata": {
        "id": "b6d7e8ba"
      },
      "outputs": [],
      "source": [
        "df_main=pd.DataFrame()"
      ]
    },
    {
      "cell_type": "code",
      "execution_count": 9,
      "id": "26bc1e03",
      "metadata": {
        "id": "26bc1e03"
      },
      "outputs": [],
      "source": [
        "df_main['clock']=df[0].apply(for_time)"
      ]
    },
    {
      "cell_type": "code",
      "execution_count": 10,
      "id": "532e78f9",
      "metadata": {
        "colab": {
          "base_uri": "https://localhost:8080/",
          "height": 206
        },
        "id": "532e78f9",
        "outputId": "d9c7d43a-7872-48d0-8dc0-b7d73b7f8ddc"
      },
      "outputs": [
        {
          "data": {
            "text/html": [
              "<div>\n",
              "<style scoped>\n",
              "    .dataframe tbody tr th:only-of-type {\n",
              "        vertical-align: middle;\n",
              "    }\n",
              "\n",
              "    .dataframe tbody tr th {\n",
              "        vertical-align: top;\n",
              "    }\n",
              "\n",
              "    .dataframe thead th {\n",
              "        text-align: right;\n",
              "    }\n",
              "</style>\n",
              "<table border=\"1\" class=\"dataframe\">\n",
              "  <thead>\n",
              "    <tr style=\"text-align: right;\">\n",
              "      <th></th>\n",
              "      <th>clock</th>\n",
              "    </tr>\n",
              "  </thead>\n",
              "  <tbody>\n",
              "    <tr>\n",
              "      <th>0</th>\n",
              "      <td>3PM</td>\n",
              "    </tr>\n",
              "    <tr>\n",
              "      <th>1</th>\n",
              "      <td>5AM</td>\n",
              "    </tr>\n",
              "    <tr>\n",
              "      <th>2</th>\n",
              "      <td>8PM</td>\n",
              "    </tr>\n",
              "    <tr>\n",
              "      <th>3</th>\n",
              "      <td>6PM</td>\n",
              "    </tr>\n",
              "    <tr>\n",
              "      <th>4</th>\n",
              "      <td>1AM</td>\n",
              "    </tr>\n",
              "  </tbody>\n",
              "</table>\n",
              "</div>"
            ],
            "text/plain": [
              "  clock\n",
              "0   3PM\n",
              "1   5AM\n",
              "2   8PM\n",
              "3   6PM\n",
              "4   1AM"
            ]
          },
          "execution_count": 10,
          "metadata": {},
          "output_type": "execute_result"
        }
      ],
      "source": [
        "df_main.head()"
      ]
    },
    {
      "cell_type": "code",
      "execution_count": 11,
      "id": "64c61ae4",
      "metadata": {
        "id": "64c61ae4"
      },
      "outputs": [],
      "source": [
        "def for_del(a,b):\n",
        "    return a.replace(b,'')"
      ]
    },
    {
      "cell_type": "code",
      "execution_count": 12,
      "id": "3e5b41ac",
      "metadata": {
        "id": "3e5b41ac"
      },
      "outputs": [],
      "source": [
        "df[0]=df[0].apply(lambda d: for_del(d,for_time(d)))"
      ]
    },
    {
      "cell_type": "code",
      "execution_count": 13,
      "id": "5a3a0682",
      "metadata": {
        "colab": {
          "base_uri": "https://localhost:8080/"
        },
        "id": "5a3a0682",
        "outputId": "6b78a363-a579-4bf4-a502-4fa51785b499"
      },
      "outputs": [
        {
          "data": {
            "text/plain": [
              "0          Mon24th-Mar-20140.384kwh\n",
              "1               15-Aug-20141.201kwh\n",
              "2            Thu20-Mar-20141.523kwh\n",
              "3             23rd-Apr-20140.424kwh\n",
              "4       Friday19th-Dec-20140.209kwh\n",
              "                   ...             \n",
              "8755       Fri07th-Nov-20140.084kwh\n",
              "8756            20-May-20141.027kwh\n",
              "8757    Tuesday8th-Apr-20140.052kwh\n",
              "8758          27th-Jan-20141.428kwh\n",
              "8759          25th-Aug-20140.528kwh\n",
              "Name: 0, Length: 8760, dtype: object"
            ]
          },
          "execution_count": 13,
          "metadata": {},
          "output_type": "execute_result"
        }
      ],
      "source": [
        "df[0]"
      ]
    },
    {
      "cell_type": "code",
      "execution_count": 14,
      "id": "958e2b44",
      "metadata": {
        "id": "958e2b44"
      },
      "outputs": [],
      "source": [
        "def for_week_day(a):\n",
        "    x=''\n",
        "    for i in a:\n",
        "        if i.isalpha():\n",
        "            x+=i\n",
        "        else:\n",
        "            return x"
      ]
    },
    {
      "cell_type": "code",
      "execution_count": 15,
      "id": "d72bb86c",
      "metadata": {
        "id": "d72bb86c"
      },
      "outputs": [],
      "source": [
        "df_main['day_of_week']=df[0].apply(for_week_day)"
      ]
    },
    {
      "cell_type": "code",
      "execution_count": 16,
      "id": "8cb0ec16",
      "metadata": {
        "colab": {
          "base_uri": "https://localhost:8080/",
          "height": 206
        },
        "id": "8cb0ec16",
        "outputId": "b566910d-95c7-4825-a689-26eb0dc18201"
      },
      "outputs": [
        {
          "data": {
            "text/html": [
              "<div>\n",
              "<style scoped>\n",
              "    .dataframe tbody tr th:only-of-type {\n",
              "        vertical-align: middle;\n",
              "    }\n",
              "\n",
              "    .dataframe tbody tr th {\n",
              "        vertical-align: top;\n",
              "    }\n",
              "\n",
              "    .dataframe thead th {\n",
              "        text-align: right;\n",
              "    }\n",
              "</style>\n",
              "<table border=\"1\" class=\"dataframe\">\n",
              "  <thead>\n",
              "    <tr style=\"text-align: right;\">\n",
              "      <th></th>\n",
              "      <th>clock</th>\n",
              "      <th>day_of_week</th>\n",
              "    </tr>\n",
              "  </thead>\n",
              "  <tbody>\n",
              "    <tr>\n",
              "      <th>0</th>\n",
              "      <td>3PM</td>\n",
              "      <td>Mon</td>\n",
              "    </tr>\n",
              "    <tr>\n",
              "      <th>1</th>\n",
              "      <td>5AM</td>\n",
              "      <td></td>\n",
              "    </tr>\n",
              "    <tr>\n",
              "      <th>2</th>\n",
              "      <td>8PM</td>\n",
              "      <td>Thu</td>\n",
              "    </tr>\n",
              "    <tr>\n",
              "      <th>3</th>\n",
              "      <td>6PM</td>\n",
              "      <td></td>\n",
              "    </tr>\n",
              "    <tr>\n",
              "      <th>4</th>\n",
              "      <td>1AM</td>\n",
              "      <td>Friday</td>\n",
              "    </tr>\n",
              "  </tbody>\n",
              "</table>\n",
              "</div>"
            ],
            "text/plain": [
              "  clock day_of_week\n",
              "0   3PM         Mon\n",
              "1   5AM            \n",
              "2   8PM         Thu\n",
              "3   6PM            \n",
              "4   1AM      Friday"
            ]
          },
          "execution_count": 16,
          "metadata": {},
          "output_type": "execute_result"
        }
      ],
      "source": [
        "df_main.head()"
      ]
    },
    {
      "cell_type": "code",
      "execution_count": 17,
      "id": "ef18e955",
      "metadata": {
        "id": "ef18e955"
      },
      "outputs": [],
      "source": [
        "df[0]=df[0].apply(lambda d: for_del(d,for_week_day(d)))"
      ]
    },
    {
      "cell_type": "code",
      "execution_count": 18,
      "id": "eda492bb",
      "metadata": {
        "colab": {
          "base_uri": "https://localhost:8080/"
        },
        "id": "eda492bb",
        "outputId": "cde29e35-8c45-419f-ad93-687eae597fea"
      },
      "outputs": [
        {
          "data": {
            "text/plain": [
              "0       24th-Mar-20140.384kwh\n",
              "1         15-Aug-20141.201kwh\n",
              "2         20-Mar-20141.523kwh\n",
              "3       23rd-Apr-20140.424kwh\n",
              "4       19th-Dec-20140.209kwh\n",
              "                ...          \n",
              "8755    07th-Nov-20140.084kwh\n",
              "8756      20-May-20141.027kwh\n",
              "8757     8th-Apr-20140.052kwh\n",
              "8758    27th-Jan-20141.428kwh\n",
              "8759    25th-Aug-20140.528kwh\n",
              "Name: 0, Length: 8760, dtype: object"
            ]
          },
          "execution_count": 18,
          "metadata": {},
          "output_type": "execute_result"
        }
      ],
      "source": [
        "df[0]"
      ]
    },
    {
      "cell_type": "code",
      "execution_count": 19,
      "id": "a66cddb1",
      "metadata": {
        "id": "a66cddb1"
      },
      "outputs": [],
      "source": [
        "df[0]=df[0].apply(lambda d: d.split('-'))"
      ]
    },
    {
      "cell_type": "code",
      "execution_count": 20,
      "id": "c359f85a",
      "metadata": {
        "id": "c359f85a"
      },
      "outputs": [],
      "source": [
        "df_main['day']=df[0].apply(lambda d: d[0])"
      ]
    },
    {
      "cell_type": "code",
      "execution_count": 21,
      "id": "da69996e",
      "metadata": {
        "id": "da69996e"
      },
      "outputs": [],
      "source": [
        "df_main['month']=df[0].apply(lambda d: d[1])"
      ]
    },
    {
      "cell_type": "code",
      "execution_count": 22,
      "id": "e5654c5b",
      "metadata": {
        "id": "e5654c5b"
      },
      "outputs": [],
      "source": [
        "df[0]=df[0].apply(lambda d: d[2])"
      ]
    },
    {
      "cell_type": "code",
      "execution_count": 23,
      "id": "5b317980",
      "metadata": {
        "colab": {
          "base_uri": "https://localhost:8080/",
          "height": 206
        },
        "id": "5b317980",
        "outputId": "9f3620b4-1d23-4c2c-ce79-05e967a88c31"
      },
      "outputs": [
        {
          "data": {
            "text/html": [
              "<div>\n",
              "<style scoped>\n",
              "    .dataframe tbody tr th:only-of-type {\n",
              "        vertical-align: middle;\n",
              "    }\n",
              "\n",
              "    .dataframe tbody tr th {\n",
              "        vertical-align: top;\n",
              "    }\n",
              "\n",
              "    .dataframe thead th {\n",
              "        text-align: right;\n",
              "    }\n",
              "</style>\n",
              "<table border=\"1\" class=\"dataframe\">\n",
              "  <thead>\n",
              "    <tr style=\"text-align: right;\">\n",
              "      <th></th>\n",
              "      <th>clock</th>\n",
              "      <th>day_of_week</th>\n",
              "      <th>day</th>\n",
              "      <th>month</th>\n",
              "    </tr>\n",
              "  </thead>\n",
              "  <tbody>\n",
              "    <tr>\n",
              "      <th>0</th>\n",
              "      <td>3PM</td>\n",
              "      <td>Mon</td>\n",
              "      <td>24th</td>\n",
              "      <td>Mar</td>\n",
              "    </tr>\n",
              "    <tr>\n",
              "      <th>1</th>\n",
              "      <td>5AM</td>\n",
              "      <td></td>\n",
              "      <td>15</td>\n",
              "      <td>Aug</td>\n",
              "    </tr>\n",
              "    <tr>\n",
              "      <th>2</th>\n",
              "      <td>8PM</td>\n",
              "      <td>Thu</td>\n",
              "      <td>20</td>\n",
              "      <td>Mar</td>\n",
              "    </tr>\n",
              "    <tr>\n",
              "      <th>3</th>\n",
              "      <td>6PM</td>\n",
              "      <td></td>\n",
              "      <td>23rd</td>\n",
              "      <td>Apr</td>\n",
              "    </tr>\n",
              "    <tr>\n",
              "      <th>4</th>\n",
              "      <td>1AM</td>\n",
              "      <td>Friday</td>\n",
              "      <td>19th</td>\n",
              "      <td>Dec</td>\n",
              "    </tr>\n",
              "  </tbody>\n",
              "</table>\n",
              "</div>"
            ],
            "text/plain": [
              "  clock day_of_week   day month\n",
              "0   3PM         Mon  24th   Mar\n",
              "1   5AM                15   Aug\n",
              "2   8PM         Thu    20   Mar\n",
              "3   6PM              23rd   Apr\n",
              "4   1AM      Friday  19th   Dec"
            ]
          },
          "execution_count": 23,
          "metadata": {},
          "output_type": "execute_result"
        }
      ],
      "source": [
        "df_main.head()"
      ]
    },
    {
      "cell_type": "code",
      "execution_count": 24,
      "id": "ad772324",
      "metadata": {
        "id": "ad772324"
      },
      "outputs": [],
      "source": [
        "df_main['year']=df[0].apply(lambda d: d[:4])"
      ]
    },
    {
      "cell_type": "code",
      "execution_count": 25,
      "id": "94bfa216",
      "metadata": {
        "id": "94bfa216"
      },
      "outputs": [],
      "source": [
        "df_main['electricity usage']=df[0].apply(lambda d: for_del(d,d[:4]))"
      ]
    },
    {
      "cell_type": "code",
      "execution_count": 26,
      "id": "ccc11928",
      "metadata": {
        "colab": {
          "base_uri": "https://localhost:8080/",
          "height": 206
        },
        "id": "ccc11928",
        "outputId": "6325f4c3-3ef9-4b84-8d12-52cb1211f80d"
      },
      "outputs": [
        {
          "data": {
            "text/html": [
              "<div>\n",
              "<style scoped>\n",
              "    .dataframe tbody tr th:only-of-type {\n",
              "        vertical-align: middle;\n",
              "    }\n",
              "\n",
              "    .dataframe tbody tr th {\n",
              "        vertical-align: top;\n",
              "    }\n",
              "\n",
              "    .dataframe thead th {\n",
              "        text-align: right;\n",
              "    }\n",
              "</style>\n",
              "<table border=\"1\" class=\"dataframe\">\n",
              "  <thead>\n",
              "    <tr style=\"text-align: right;\">\n",
              "      <th></th>\n",
              "      <th>clock</th>\n",
              "      <th>day_of_week</th>\n",
              "      <th>day</th>\n",
              "      <th>month</th>\n",
              "      <th>year</th>\n",
              "      <th>electricity usage</th>\n",
              "    </tr>\n",
              "  </thead>\n",
              "  <tbody>\n",
              "    <tr>\n",
              "      <th>0</th>\n",
              "      <td>3PM</td>\n",
              "      <td>Mon</td>\n",
              "      <td>24th</td>\n",
              "      <td>Mar</td>\n",
              "      <td>2014</td>\n",
              "      <td>0.384kwh</td>\n",
              "    </tr>\n",
              "    <tr>\n",
              "      <th>1</th>\n",
              "      <td>5AM</td>\n",
              "      <td></td>\n",
              "      <td>15</td>\n",
              "      <td>Aug</td>\n",
              "      <td>2014</td>\n",
              "      <td>1.201kwh</td>\n",
              "    </tr>\n",
              "    <tr>\n",
              "      <th>2</th>\n",
              "      <td>8PM</td>\n",
              "      <td>Thu</td>\n",
              "      <td>20</td>\n",
              "      <td>Mar</td>\n",
              "      <td>2014</td>\n",
              "      <td>1.523kwh</td>\n",
              "    </tr>\n",
              "    <tr>\n",
              "      <th>3</th>\n",
              "      <td>6PM</td>\n",
              "      <td></td>\n",
              "      <td>23rd</td>\n",
              "      <td>Apr</td>\n",
              "      <td>2014</td>\n",
              "      <td>0.424kwh</td>\n",
              "    </tr>\n",
              "    <tr>\n",
              "      <th>4</th>\n",
              "      <td>1AM</td>\n",
              "      <td>Friday</td>\n",
              "      <td>19th</td>\n",
              "      <td>Dec</td>\n",
              "      <td>2014</td>\n",
              "      <td>0.209kwh</td>\n",
              "    </tr>\n",
              "  </tbody>\n",
              "</table>\n",
              "</div>"
            ],
            "text/plain": [
              "  clock day_of_week   day month  year electricity usage\n",
              "0   3PM         Mon  24th   Mar  2014          0.384kwh\n",
              "1   5AM                15   Aug  2014          1.201kwh\n",
              "2   8PM         Thu    20   Mar  2014          1.523kwh\n",
              "3   6PM              23rd   Apr  2014          0.424kwh\n",
              "4   1AM      Friday  19th   Dec  2014          0.209kwh"
            ]
          },
          "execution_count": 26,
          "metadata": {},
          "output_type": "execute_result"
        }
      ],
      "source": [
        "df_main.head()"
      ]
    },
    {
      "cell_type": "code",
      "execution_count": 27,
      "id": "5fb0b7ae",
      "metadata": {
        "id": "5fb0b7ae"
      },
      "outputs": [],
      "source": [
        "df_main['am_pm']=df_main['clock'].apply(lambda d: re.findall('AM|PM',d)[0])"
      ]
    },
    {
      "cell_type": "code",
      "execution_count": 28,
      "id": "6d783aa0",
      "metadata": {
        "id": "6d783aa0"
      },
      "outputs": [],
      "source": [
        "df_main['clock']=df_main['clock'].apply(lambda d: for_del(d,re.findall('AM|PM',d)[0]))"
      ]
    },
    {
      "cell_type": "code",
      "execution_count": 29,
      "id": "bb8f478a",
      "metadata": {
        "colab": {
          "base_uri": "https://localhost:8080/",
          "height": 423
        },
        "id": "bb8f478a",
        "outputId": "8cc6b964-b0bb-4d94-f91b-541fda7471fa"
      },
      "outputs": [
        {
          "data": {
            "text/html": [
              "<div>\n",
              "<style scoped>\n",
              "    .dataframe tbody tr th:only-of-type {\n",
              "        vertical-align: middle;\n",
              "    }\n",
              "\n",
              "    .dataframe tbody tr th {\n",
              "        vertical-align: top;\n",
              "    }\n",
              "\n",
              "    .dataframe thead th {\n",
              "        text-align: right;\n",
              "    }\n",
              "</style>\n",
              "<table border=\"1\" class=\"dataframe\">\n",
              "  <thead>\n",
              "    <tr style=\"text-align: right;\">\n",
              "      <th></th>\n",
              "      <th>clock</th>\n",
              "      <th>day_of_week</th>\n",
              "      <th>day</th>\n",
              "      <th>month</th>\n",
              "      <th>year</th>\n",
              "      <th>electricity usage</th>\n",
              "      <th>am_pm</th>\n",
              "    </tr>\n",
              "  </thead>\n",
              "  <tbody>\n",
              "    <tr>\n",
              "      <th>0</th>\n",
              "      <td>3</td>\n",
              "      <td>Mon</td>\n",
              "      <td>24th</td>\n",
              "      <td>Mar</td>\n",
              "      <td>2014</td>\n",
              "      <td>0.384kwh</td>\n",
              "      <td>PM</td>\n",
              "    </tr>\n",
              "    <tr>\n",
              "      <th>1</th>\n",
              "      <td>5</td>\n",
              "      <td></td>\n",
              "      <td>15</td>\n",
              "      <td>Aug</td>\n",
              "      <td>2014</td>\n",
              "      <td>1.201kwh</td>\n",
              "      <td>AM</td>\n",
              "    </tr>\n",
              "    <tr>\n",
              "      <th>2</th>\n",
              "      <td>8</td>\n",
              "      <td>Thu</td>\n",
              "      <td>20</td>\n",
              "      <td>Mar</td>\n",
              "      <td>2014</td>\n",
              "      <td>1.523kwh</td>\n",
              "      <td>PM</td>\n",
              "    </tr>\n",
              "    <tr>\n",
              "      <th>3</th>\n",
              "      <td>6</td>\n",
              "      <td></td>\n",
              "      <td>23rd</td>\n",
              "      <td>Apr</td>\n",
              "      <td>2014</td>\n",
              "      <td>0.424kwh</td>\n",
              "      <td>PM</td>\n",
              "    </tr>\n",
              "    <tr>\n",
              "      <th>4</th>\n",
              "      <td>1</td>\n",
              "      <td>Friday</td>\n",
              "      <td>19th</td>\n",
              "      <td>Dec</td>\n",
              "      <td>2014</td>\n",
              "      <td>0.209kwh</td>\n",
              "      <td>AM</td>\n",
              "    </tr>\n",
              "    <tr>\n",
              "      <th>...</th>\n",
              "      <td>...</td>\n",
              "      <td>...</td>\n",
              "      <td>...</td>\n",
              "      <td>...</td>\n",
              "      <td>...</td>\n",
              "      <td>...</td>\n",
              "      <td>...</td>\n",
              "    </tr>\n",
              "    <tr>\n",
              "      <th>8755</th>\n",
              "      <td>1</td>\n",
              "      <td>Fri</td>\n",
              "      <td>07th</td>\n",
              "      <td>Nov</td>\n",
              "      <td>2014</td>\n",
              "      <td>0.084kwh</td>\n",
              "      <td>AM</td>\n",
              "    </tr>\n",
              "    <tr>\n",
              "      <th>8756</th>\n",
              "      <td>6</td>\n",
              "      <td></td>\n",
              "      <td>20</td>\n",
              "      <td>May</td>\n",
              "      <td>2014</td>\n",
              "      <td>1.027kwh</td>\n",
              "      <td>AM</td>\n",
              "    </tr>\n",
              "    <tr>\n",
              "      <th>8757</th>\n",
              "      <td>2</td>\n",
              "      <td>Tuesday</td>\n",
              "      <td>8th</td>\n",
              "      <td>Apr</td>\n",
              "      <td>2014</td>\n",
              "      <td>0.052kwh</td>\n",
              "      <td>AM</td>\n",
              "    </tr>\n",
              "    <tr>\n",
              "      <th>8758</th>\n",
              "      <td>9</td>\n",
              "      <td></td>\n",
              "      <td>27th</td>\n",
              "      <td>Jan</td>\n",
              "      <td>2014</td>\n",
              "      <td>1.428kwh</td>\n",
              "      <td>PM</td>\n",
              "    </tr>\n",
              "    <tr>\n",
              "      <th>8759</th>\n",
              "      <td>12</td>\n",
              "      <td></td>\n",
              "      <td>25th</td>\n",
              "      <td>Aug</td>\n",
              "      <td>2014</td>\n",
              "      <td>0.528kwh</td>\n",
              "      <td>PM</td>\n",
              "    </tr>\n",
              "  </tbody>\n",
              "</table>\n",
              "<p>8760 rows × 7 columns</p>\n",
              "</div>"
            ],
            "text/plain": [
              "     clock day_of_week   day month  year electricity usage am_pm\n",
              "0        3         Mon  24th   Mar  2014          0.384kwh    PM\n",
              "1        5                15   Aug  2014          1.201kwh    AM\n",
              "2        8         Thu    20   Mar  2014          1.523kwh    PM\n",
              "3        6              23rd   Apr  2014          0.424kwh    PM\n",
              "4        1      Friday  19th   Dec  2014          0.209kwh    AM\n",
              "...    ...         ...   ...   ...   ...               ...   ...\n",
              "8755     1         Fri  07th   Nov  2014          0.084kwh    AM\n",
              "8756     6                20   May  2014          1.027kwh    AM\n",
              "8757     2     Tuesday   8th   Apr  2014          0.052kwh    AM\n",
              "8758     9              27th   Jan  2014          1.428kwh    PM\n",
              "8759    12              25th   Aug  2014          0.528kwh    PM\n",
              "\n",
              "[8760 rows x 7 columns]"
            ]
          },
          "execution_count": 29,
          "metadata": {},
          "output_type": "execute_result"
        }
      ],
      "source": [
        "df_main"
      ]
    },
    {
      "cell_type": "code",
      "execution_count": 30,
      "id": "5857d7fe",
      "metadata": {
        "id": "5857d7fe"
      },
      "outputs": [],
      "source": [
        "df_main['kwh']=df_main['electricity usage'].apply(lambda d: re.findall('kwh',d)[0])"
      ]
    },
    {
      "cell_type": "code",
      "execution_count": 31,
      "id": "409c1366",
      "metadata": {
        "id": "409c1366"
      },
      "outputs": [],
      "source": [
        "df_main['electricity usage']=df_main['electricity usage'].apply(lambda d: for_del(d,re.findall('kwh',d)[0]))"
      ]
    },
    {
      "cell_type": "code",
      "execution_count": 32,
      "id": "d22d226d",
      "metadata": {
        "colab": {
          "base_uri": "https://localhost:8080/",
          "height": 206
        },
        "id": "d22d226d",
        "outputId": "869d86bc-f8f9-46c8-9bf8-354eabce8b13"
      },
      "outputs": [
        {
          "data": {
            "text/html": [
              "<div>\n",
              "<style scoped>\n",
              "    .dataframe tbody tr th:only-of-type {\n",
              "        vertical-align: middle;\n",
              "    }\n",
              "\n",
              "    .dataframe tbody tr th {\n",
              "        vertical-align: top;\n",
              "    }\n",
              "\n",
              "    .dataframe thead th {\n",
              "        text-align: right;\n",
              "    }\n",
              "</style>\n",
              "<table border=\"1\" class=\"dataframe\">\n",
              "  <thead>\n",
              "    <tr style=\"text-align: right;\">\n",
              "      <th></th>\n",
              "      <th>clock</th>\n",
              "      <th>day_of_week</th>\n",
              "      <th>day</th>\n",
              "      <th>month</th>\n",
              "      <th>year</th>\n",
              "      <th>electricity usage</th>\n",
              "      <th>am_pm</th>\n",
              "      <th>kwh</th>\n",
              "    </tr>\n",
              "  </thead>\n",
              "  <tbody>\n",
              "    <tr>\n",
              "      <th>0</th>\n",
              "      <td>3</td>\n",
              "      <td>Mon</td>\n",
              "      <td>24th</td>\n",
              "      <td>Mar</td>\n",
              "      <td>2014</td>\n",
              "      <td>0.384</td>\n",
              "      <td>PM</td>\n",
              "      <td>kwh</td>\n",
              "    </tr>\n",
              "    <tr>\n",
              "      <th>1</th>\n",
              "      <td>5</td>\n",
              "      <td></td>\n",
              "      <td>15</td>\n",
              "      <td>Aug</td>\n",
              "      <td>2014</td>\n",
              "      <td>1.201</td>\n",
              "      <td>AM</td>\n",
              "      <td>kwh</td>\n",
              "    </tr>\n",
              "    <tr>\n",
              "      <th>2</th>\n",
              "      <td>8</td>\n",
              "      <td>Thu</td>\n",
              "      <td>20</td>\n",
              "      <td>Mar</td>\n",
              "      <td>2014</td>\n",
              "      <td>1.523</td>\n",
              "      <td>PM</td>\n",
              "      <td>kwh</td>\n",
              "    </tr>\n",
              "    <tr>\n",
              "      <th>3</th>\n",
              "      <td>6</td>\n",
              "      <td></td>\n",
              "      <td>23rd</td>\n",
              "      <td>Apr</td>\n",
              "      <td>2014</td>\n",
              "      <td>0.424</td>\n",
              "      <td>PM</td>\n",
              "      <td>kwh</td>\n",
              "    </tr>\n",
              "    <tr>\n",
              "      <th>4</th>\n",
              "      <td>1</td>\n",
              "      <td>Friday</td>\n",
              "      <td>19th</td>\n",
              "      <td>Dec</td>\n",
              "      <td>2014</td>\n",
              "      <td>0.209</td>\n",
              "      <td>AM</td>\n",
              "      <td>kwh</td>\n",
              "    </tr>\n",
              "  </tbody>\n",
              "</table>\n",
              "</div>"
            ],
            "text/plain": [
              "  clock day_of_week   day month  year electricity usage am_pm  kwh\n",
              "0     3         Mon  24th   Mar  2014             0.384    PM  kwh\n",
              "1     5                15   Aug  2014             1.201    AM  kwh\n",
              "2     8         Thu    20   Mar  2014             1.523    PM  kwh\n",
              "3     6              23rd   Apr  2014             0.424    PM  kwh\n",
              "4     1      Friday  19th   Dec  2014             0.209    AM  kwh"
            ]
          },
          "execution_count": 32,
          "metadata": {},
          "output_type": "execute_result"
        }
      ],
      "source": [
        "df_main.head()"
      ]
    },
    {
      "cell_type": "code",
      "execution_count": 33,
      "id": "5495eb6d",
      "metadata": {
        "colab": {
          "base_uri": "https://localhost:8080/"
        },
        "id": "5495eb6d",
        "outputId": "8ea5e9d7-d720-433d-b8a9-46c8569bcc80"
      },
      "outputs": [
        {
          "data": {
            "text/plain": [
              "array(['24th', '15', '20', '23rd', '19th', '7th', '25', '14', '25th',\n",
              "       '11th', '11', '28', '01', '04th', '24', '26', '23', '17th', '28th',\n",
              "       '8th', '21', '17', '2', '1st', '03', '08', '8', '03rd', '9',\n",
              "       '15th', '31', '21st', '26th', '02nd', '30', '13th', '7', '18th',\n",
              "       '13', '5th', '6th', '6', '09', '5', '16th', '3', '07', '05',\n",
              "       '22nd', '16', '29th', '07th', '22', '18', '19', '20th', '1',\n",
              "       '30th', '12', '2nd', '06th', '31st', '14th', '04', '12th', '29',\n",
              "       '27', '01st', '4', '9th', '10', '3rd', '4th', '27th', '10th',\n",
              "       '08th', '09th', '06', '02', '05th'], dtype=object)"
            ]
          },
          "execution_count": 33,
          "metadata": {},
          "output_type": "execute_result"
        }
      ],
      "source": [
        "df_main['day'].unique()"
      ]
    },
    {
      "cell_type": "code",
      "execution_count": 34,
      "id": "5bf71ab6",
      "metadata": {
        "id": "5bf71ab6"
      },
      "outputs": [],
      "source": [
        "def del_suffix(a):\n",
        "    if re.findall('th|st|nd|rd',a):\n",
        "        return a.replace(re.findall('th|st|nd|rd',a)[0],'')\n",
        "    else:\n",
        "        return a"
      ]
    },
    {
      "cell_type": "code",
      "execution_count": 35,
      "id": "7a9c4639",
      "metadata": {
        "id": "7a9c4639"
      },
      "outputs": [],
      "source": [
        "df_main['day']=df_main['day'].apply(lambda d: del_suffix(d))"
      ]
    },
    {
      "cell_type": "code",
      "execution_count": 36,
      "id": "1df6e444",
      "metadata": {
        "colab": {
          "base_uri": "https://localhost:8080/",
          "height": 206
        },
        "id": "1df6e444",
        "outputId": "1902acc8-eadd-4ffb-fc65-605a8671813b"
      },
      "outputs": [
        {
          "data": {
            "text/html": [
              "<div>\n",
              "<style scoped>\n",
              "    .dataframe tbody tr th:only-of-type {\n",
              "        vertical-align: middle;\n",
              "    }\n",
              "\n",
              "    .dataframe tbody tr th {\n",
              "        vertical-align: top;\n",
              "    }\n",
              "\n",
              "    .dataframe thead th {\n",
              "        text-align: right;\n",
              "    }\n",
              "</style>\n",
              "<table border=\"1\" class=\"dataframe\">\n",
              "  <thead>\n",
              "    <tr style=\"text-align: right;\">\n",
              "      <th></th>\n",
              "      <th>clock</th>\n",
              "      <th>day_of_week</th>\n",
              "      <th>day</th>\n",
              "      <th>month</th>\n",
              "      <th>year</th>\n",
              "      <th>electricity usage</th>\n",
              "      <th>am_pm</th>\n",
              "      <th>kwh</th>\n",
              "    </tr>\n",
              "  </thead>\n",
              "  <tbody>\n",
              "    <tr>\n",
              "      <th>0</th>\n",
              "      <td>3</td>\n",
              "      <td>Mon</td>\n",
              "      <td>24</td>\n",
              "      <td>Mar</td>\n",
              "      <td>2014</td>\n",
              "      <td>0.384</td>\n",
              "      <td>PM</td>\n",
              "      <td>kwh</td>\n",
              "    </tr>\n",
              "    <tr>\n",
              "      <th>1</th>\n",
              "      <td>5</td>\n",
              "      <td></td>\n",
              "      <td>15</td>\n",
              "      <td>Aug</td>\n",
              "      <td>2014</td>\n",
              "      <td>1.201</td>\n",
              "      <td>AM</td>\n",
              "      <td>kwh</td>\n",
              "    </tr>\n",
              "    <tr>\n",
              "      <th>2</th>\n",
              "      <td>8</td>\n",
              "      <td>Thu</td>\n",
              "      <td>20</td>\n",
              "      <td>Mar</td>\n",
              "      <td>2014</td>\n",
              "      <td>1.523</td>\n",
              "      <td>PM</td>\n",
              "      <td>kwh</td>\n",
              "    </tr>\n",
              "    <tr>\n",
              "      <th>3</th>\n",
              "      <td>6</td>\n",
              "      <td></td>\n",
              "      <td>23</td>\n",
              "      <td>Apr</td>\n",
              "      <td>2014</td>\n",
              "      <td>0.424</td>\n",
              "      <td>PM</td>\n",
              "      <td>kwh</td>\n",
              "    </tr>\n",
              "    <tr>\n",
              "      <th>4</th>\n",
              "      <td>1</td>\n",
              "      <td>Friday</td>\n",
              "      <td>19</td>\n",
              "      <td>Dec</td>\n",
              "      <td>2014</td>\n",
              "      <td>0.209</td>\n",
              "      <td>AM</td>\n",
              "      <td>kwh</td>\n",
              "    </tr>\n",
              "  </tbody>\n",
              "</table>\n",
              "</div>"
            ],
            "text/plain": [
              "  clock day_of_week day month  year electricity usage am_pm  kwh\n",
              "0     3         Mon  24   Mar  2014             0.384    PM  kwh\n",
              "1     5              15   Aug  2014             1.201    AM  kwh\n",
              "2     8         Thu  20   Mar  2014             1.523    PM  kwh\n",
              "3     6              23   Apr  2014             0.424    PM  kwh\n",
              "4     1      Friday  19   Dec  2014             0.209    AM  kwh"
            ]
          },
          "execution_count": 36,
          "metadata": {},
          "output_type": "execute_result"
        }
      ],
      "source": [
        "df_main.head()"
      ]
    },
    {
      "cell_type": "code",
      "execution_count": 37,
      "id": "fd6ba244",
      "metadata": {
        "colab": {
          "base_uri": "https://localhost:8080/"
        },
        "id": "fd6ba244",
        "outputId": "2b66e64a-89e6-42cf-d95d-2c49e5d01c60"
      },
      "outputs": [
        {
          "data": {
            "text/plain": [
              "array(['Mar', 'Aug', 'Apr', 'Dec', 'Jul', 'Nov', 'Jan', 'Feb', 'May',\n",
              "       'Jun', 'Sep', 'Oct'], dtype=object)"
            ]
          },
          "execution_count": 37,
          "metadata": {},
          "output_type": "execute_result"
        }
      ],
      "source": [
        "df_main['month'].unique()"
      ]
    },
    {
      "cell_type": "code",
      "execution_count": 38,
      "id": "332ca9c5",
      "metadata": {
        "id": "332ca9c5"
      },
      "outputs": [],
      "source": [
        "def for_months(a):\n",
        "    if a=='Jan':\n",
        "        return 1\n",
        "    elif a=='Feb':\n",
        "        return 2\n",
        "    elif a=='Mar':\n",
        "        return 3\n",
        "    elif a=='Apr':\n",
        "        return 4\n",
        "    elif a=='May':\n",
        "        return 5\n",
        "    elif a=='Jun':\n",
        "        return 6\n",
        "    elif a=='Jul':\n",
        "        return 7\n",
        "    elif a=='Aug':\n",
        "        return 8\n",
        "    elif a=='Sep':\n",
        "        return 9\n",
        "    elif a=='Oct':\n",
        "        return 10\n",
        "    elif a=='Nov':\n",
        "        return 11\n",
        "    else:\n",
        "        return 12"
      ]
    },
    {
      "cell_type": "code",
      "execution_count": 39,
      "id": "601f8373",
      "metadata": {
        "id": "601f8373"
      },
      "outputs": [],
      "source": [
        "df_main['month']=df_main['month'].apply(lambda d: for_months(d))"
      ]
    },
    {
      "cell_type": "code",
      "execution_count": 40,
      "id": "76c76d81",
      "metadata": {
        "id": "76c76d81"
      },
      "outputs": [],
      "source": [
        "df_main['date']=pd.to_datetime(df_main[['day','month','year']])"
      ]
    },
    {
      "cell_type": "code",
      "execution_count": 41,
      "id": "571f90a5",
      "metadata": {
        "colab": {
          "base_uri": "https://localhost:8080/",
          "height": 423
        },
        "id": "571f90a5",
        "outputId": "87500e70-53d9-416d-9ff8-2eafbe31ee57"
      },
      "outputs": [
        {
          "data": {
            "text/html": [
              "<div>\n",
              "<style scoped>\n",
              "    .dataframe tbody tr th:only-of-type {\n",
              "        vertical-align: middle;\n",
              "    }\n",
              "\n",
              "    .dataframe tbody tr th {\n",
              "        vertical-align: top;\n",
              "    }\n",
              "\n",
              "    .dataframe thead th {\n",
              "        text-align: right;\n",
              "    }\n",
              "</style>\n",
              "<table border=\"1\" class=\"dataframe\">\n",
              "  <thead>\n",
              "    <tr style=\"text-align: right;\">\n",
              "      <th></th>\n",
              "      <th>clock</th>\n",
              "      <th>day_of_week</th>\n",
              "      <th>day</th>\n",
              "      <th>month</th>\n",
              "      <th>year</th>\n",
              "      <th>electricity usage</th>\n",
              "      <th>am_pm</th>\n",
              "      <th>kwh</th>\n",
              "      <th>date</th>\n",
              "    </tr>\n",
              "  </thead>\n",
              "  <tbody>\n",
              "    <tr>\n",
              "      <th>0</th>\n",
              "      <td>3</td>\n",
              "      <td>Mon</td>\n",
              "      <td>24</td>\n",
              "      <td>3</td>\n",
              "      <td>2014</td>\n",
              "      <td>0.384</td>\n",
              "      <td>PM</td>\n",
              "      <td>kwh</td>\n",
              "      <td>2014-03-24</td>\n",
              "    </tr>\n",
              "    <tr>\n",
              "      <th>1</th>\n",
              "      <td>5</td>\n",
              "      <td></td>\n",
              "      <td>15</td>\n",
              "      <td>8</td>\n",
              "      <td>2014</td>\n",
              "      <td>1.201</td>\n",
              "      <td>AM</td>\n",
              "      <td>kwh</td>\n",
              "      <td>2014-08-15</td>\n",
              "    </tr>\n",
              "    <tr>\n",
              "      <th>2</th>\n",
              "      <td>8</td>\n",
              "      <td>Thu</td>\n",
              "      <td>20</td>\n",
              "      <td>3</td>\n",
              "      <td>2014</td>\n",
              "      <td>1.523</td>\n",
              "      <td>PM</td>\n",
              "      <td>kwh</td>\n",
              "      <td>2014-03-20</td>\n",
              "    </tr>\n",
              "    <tr>\n",
              "      <th>3</th>\n",
              "      <td>6</td>\n",
              "      <td></td>\n",
              "      <td>23</td>\n",
              "      <td>4</td>\n",
              "      <td>2014</td>\n",
              "      <td>0.424</td>\n",
              "      <td>PM</td>\n",
              "      <td>kwh</td>\n",
              "      <td>2014-04-23</td>\n",
              "    </tr>\n",
              "    <tr>\n",
              "      <th>4</th>\n",
              "      <td>1</td>\n",
              "      <td>Friday</td>\n",
              "      <td>19</td>\n",
              "      <td>12</td>\n",
              "      <td>2014</td>\n",
              "      <td>0.209</td>\n",
              "      <td>AM</td>\n",
              "      <td>kwh</td>\n",
              "      <td>2014-12-19</td>\n",
              "    </tr>\n",
              "    <tr>\n",
              "      <th>...</th>\n",
              "      <td>...</td>\n",
              "      <td>...</td>\n",
              "      <td>...</td>\n",
              "      <td>...</td>\n",
              "      <td>...</td>\n",
              "      <td>...</td>\n",
              "      <td>...</td>\n",
              "      <td>...</td>\n",
              "      <td>...</td>\n",
              "    </tr>\n",
              "    <tr>\n",
              "      <th>8755</th>\n",
              "      <td>1</td>\n",
              "      <td>Fri</td>\n",
              "      <td>07</td>\n",
              "      <td>11</td>\n",
              "      <td>2014</td>\n",
              "      <td>0.084</td>\n",
              "      <td>AM</td>\n",
              "      <td>kwh</td>\n",
              "      <td>2014-11-07</td>\n",
              "    </tr>\n",
              "    <tr>\n",
              "      <th>8756</th>\n",
              "      <td>6</td>\n",
              "      <td></td>\n",
              "      <td>20</td>\n",
              "      <td>5</td>\n",
              "      <td>2014</td>\n",
              "      <td>1.027</td>\n",
              "      <td>AM</td>\n",
              "      <td>kwh</td>\n",
              "      <td>2014-05-20</td>\n",
              "    </tr>\n",
              "    <tr>\n",
              "      <th>8757</th>\n",
              "      <td>2</td>\n",
              "      <td>Tuesday</td>\n",
              "      <td>8</td>\n",
              "      <td>4</td>\n",
              "      <td>2014</td>\n",
              "      <td>0.052</td>\n",
              "      <td>AM</td>\n",
              "      <td>kwh</td>\n",
              "      <td>2014-04-08</td>\n",
              "    </tr>\n",
              "    <tr>\n",
              "      <th>8758</th>\n",
              "      <td>9</td>\n",
              "      <td></td>\n",
              "      <td>27</td>\n",
              "      <td>1</td>\n",
              "      <td>2014</td>\n",
              "      <td>1.428</td>\n",
              "      <td>PM</td>\n",
              "      <td>kwh</td>\n",
              "      <td>2014-01-27</td>\n",
              "    </tr>\n",
              "    <tr>\n",
              "      <th>8759</th>\n",
              "      <td>12</td>\n",
              "      <td></td>\n",
              "      <td>25</td>\n",
              "      <td>8</td>\n",
              "      <td>2014</td>\n",
              "      <td>0.528</td>\n",
              "      <td>PM</td>\n",
              "      <td>kwh</td>\n",
              "      <td>2014-08-25</td>\n",
              "    </tr>\n",
              "  </tbody>\n",
              "</table>\n",
              "<p>8760 rows × 9 columns</p>\n",
              "</div>"
            ],
            "text/plain": [
              "     clock day_of_week day  month  year electricity usage am_pm  kwh  \\\n",
              "0        3         Mon  24      3  2014             0.384    PM  kwh   \n",
              "1        5              15      8  2014             1.201    AM  kwh   \n",
              "2        8         Thu  20      3  2014             1.523    PM  kwh   \n",
              "3        6              23      4  2014             0.424    PM  kwh   \n",
              "4        1      Friday  19     12  2014             0.209    AM  kwh   \n",
              "...    ...         ...  ..    ...   ...               ...   ...  ...   \n",
              "8755     1         Fri  07     11  2014             0.084    AM  kwh   \n",
              "8756     6              20      5  2014             1.027    AM  kwh   \n",
              "8757     2     Tuesday   8      4  2014             0.052    AM  kwh   \n",
              "8758     9              27      1  2014             1.428    PM  kwh   \n",
              "8759    12              25      8  2014             0.528    PM  kwh   \n",
              "\n",
              "           date  \n",
              "0    2014-03-24  \n",
              "1    2014-08-15  \n",
              "2    2014-03-20  \n",
              "3    2014-04-23  \n",
              "4    2014-12-19  \n",
              "...         ...  \n",
              "8755 2014-11-07  \n",
              "8756 2014-05-20  \n",
              "8757 2014-04-08  \n",
              "8758 2014-01-27  \n",
              "8759 2014-08-25  \n",
              "\n",
              "[8760 rows x 9 columns]"
            ]
          },
          "execution_count": 41,
          "metadata": {},
          "output_type": "execute_result"
        }
      ],
      "source": [
        "df_main"
      ]
    },
    {
      "cell_type": "code",
      "execution_count": 42,
      "id": "d8f59b6f",
      "metadata": {
        "id": "d8f59b6f"
      },
      "outputs": [],
      "source": [
        "df_main['day_of_week']=df_main['date'].apply(lambda d: d.strftime('%A'))"
      ]
    },
    {
      "cell_type": "code",
      "execution_count": 43,
      "id": "d2c89c50",
      "metadata": {
        "colab": {
          "base_uri": "https://localhost:8080/",
          "height": 423
        },
        "id": "d2c89c50",
        "outputId": "e0cc3f4d-17e9-4fd2-ca90-e461fdf3e8a8"
      },
      "outputs": [
        {
          "data": {
            "text/html": [
              "<div>\n",
              "<style scoped>\n",
              "    .dataframe tbody tr th:only-of-type {\n",
              "        vertical-align: middle;\n",
              "    }\n",
              "\n",
              "    .dataframe tbody tr th {\n",
              "        vertical-align: top;\n",
              "    }\n",
              "\n",
              "    .dataframe thead th {\n",
              "        text-align: right;\n",
              "    }\n",
              "</style>\n",
              "<table border=\"1\" class=\"dataframe\">\n",
              "  <thead>\n",
              "    <tr style=\"text-align: right;\">\n",
              "      <th></th>\n",
              "      <th>clock</th>\n",
              "      <th>day_of_week</th>\n",
              "      <th>day</th>\n",
              "      <th>month</th>\n",
              "      <th>year</th>\n",
              "      <th>electricity usage</th>\n",
              "      <th>am_pm</th>\n",
              "      <th>kwh</th>\n",
              "      <th>date</th>\n",
              "    </tr>\n",
              "  </thead>\n",
              "  <tbody>\n",
              "    <tr>\n",
              "      <th>0</th>\n",
              "      <td>3</td>\n",
              "      <td>Monday</td>\n",
              "      <td>24</td>\n",
              "      <td>3</td>\n",
              "      <td>2014</td>\n",
              "      <td>0.384</td>\n",
              "      <td>PM</td>\n",
              "      <td>kwh</td>\n",
              "      <td>2014-03-24</td>\n",
              "    </tr>\n",
              "    <tr>\n",
              "      <th>1</th>\n",
              "      <td>5</td>\n",
              "      <td>Friday</td>\n",
              "      <td>15</td>\n",
              "      <td>8</td>\n",
              "      <td>2014</td>\n",
              "      <td>1.201</td>\n",
              "      <td>AM</td>\n",
              "      <td>kwh</td>\n",
              "      <td>2014-08-15</td>\n",
              "    </tr>\n",
              "    <tr>\n",
              "      <th>2</th>\n",
              "      <td>8</td>\n",
              "      <td>Thursday</td>\n",
              "      <td>20</td>\n",
              "      <td>3</td>\n",
              "      <td>2014</td>\n",
              "      <td>1.523</td>\n",
              "      <td>PM</td>\n",
              "      <td>kwh</td>\n",
              "      <td>2014-03-20</td>\n",
              "    </tr>\n",
              "    <tr>\n",
              "      <th>3</th>\n",
              "      <td>6</td>\n",
              "      <td>Wednesday</td>\n",
              "      <td>23</td>\n",
              "      <td>4</td>\n",
              "      <td>2014</td>\n",
              "      <td>0.424</td>\n",
              "      <td>PM</td>\n",
              "      <td>kwh</td>\n",
              "      <td>2014-04-23</td>\n",
              "    </tr>\n",
              "    <tr>\n",
              "      <th>4</th>\n",
              "      <td>1</td>\n",
              "      <td>Friday</td>\n",
              "      <td>19</td>\n",
              "      <td>12</td>\n",
              "      <td>2014</td>\n",
              "      <td>0.209</td>\n",
              "      <td>AM</td>\n",
              "      <td>kwh</td>\n",
              "      <td>2014-12-19</td>\n",
              "    </tr>\n",
              "    <tr>\n",
              "      <th>...</th>\n",
              "      <td>...</td>\n",
              "      <td>...</td>\n",
              "      <td>...</td>\n",
              "      <td>...</td>\n",
              "      <td>...</td>\n",
              "      <td>...</td>\n",
              "      <td>...</td>\n",
              "      <td>...</td>\n",
              "      <td>...</td>\n",
              "    </tr>\n",
              "    <tr>\n",
              "      <th>8755</th>\n",
              "      <td>1</td>\n",
              "      <td>Friday</td>\n",
              "      <td>07</td>\n",
              "      <td>11</td>\n",
              "      <td>2014</td>\n",
              "      <td>0.084</td>\n",
              "      <td>AM</td>\n",
              "      <td>kwh</td>\n",
              "      <td>2014-11-07</td>\n",
              "    </tr>\n",
              "    <tr>\n",
              "      <th>8756</th>\n",
              "      <td>6</td>\n",
              "      <td>Tuesday</td>\n",
              "      <td>20</td>\n",
              "      <td>5</td>\n",
              "      <td>2014</td>\n",
              "      <td>1.027</td>\n",
              "      <td>AM</td>\n",
              "      <td>kwh</td>\n",
              "      <td>2014-05-20</td>\n",
              "    </tr>\n",
              "    <tr>\n",
              "      <th>8757</th>\n",
              "      <td>2</td>\n",
              "      <td>Tuesday</td>\n",
              "      <td>8</td>\n",
              "      <td>4</td>\n",
              "      <td>2014</td>\n",
              "      <td>0.052</td>\n",
              "      <td>AM</td>\n",
              "      <td>kwh</td>\n",
              "      <td>2014-04-08</td>\n",
              "    </tr>\n",
              "    <tr>\n",
              "      <th>8758</th>\n",
              "      <td>9</td>\n",
              "      <td>Monday</td>\n",
              "      <td>27</td>\n",
              "      <td>1</td>\n",
              "      <td>2014</td>\n",
              "      <td>1.428</td>\n",
              "      <td>PM</td>\n",
              "      <td>kwh</td>\n",
              "      <td>2014-01-27</td>\n",
              "    </tr>\n",
              "    <tr>\n",
              "      <th>8759</th>\n",
              "      <td>12</td>\n",
              "      <td>Monday</td>\n",
              "      <td>25</td>\n",
              "      <td>8</td>\n",
              "      <td>2014</td>\n",
              "      <td>0.528</td>\n",
              "      <td>PM</td>\n",
              "      <td>kwh</td>\n",
              "      <td>2014-08-25</td>\n",
              "    </tr>\n",
              "  </tbody>\n",
              "</table>\n",
              "<p>8760 rows × 9 columns</p>\n",
              "</div>"
            ],
            "text/plain": [
              "     clock day_of_week day  month  year electricity usage am_pm  kwh  \\\n",
              "0        3      Monday  24      3  2014             0.384    PM  kwh   \n",
              "1        5      Friday  15      8  2014             1.201    AM  kwh   \n",
              "2        8    Thursday  20      3  2014             1.523    PM  kwh   \n",
              "3        6   Wednesday  23      4  2014             0.424    PM  kwh   \n",
              "4        1      Friday  19     12  2014             0.209    AM  kwh   \n",
              "...    ...         ...  ..    ...   ...               ...   ...  ...   \n",
              "8755     1      Friday  07     11  2014             0.084    AM  kwh   \n",
              "8756     6     Tuesday  20      5  2014             1.027    AM  kwh   \n",
              "8757     2     Tuesday   8      4  2014             0.052    AM  kwh   \n",
              "8758     9      Monday  27      1  2014             1.428    PM  kwh   \n",
              "8759    12      Monday  25      8  2014             0.528    PM  kwh   \n",
              "\n",
              "           date  \n",
              "0    2014-03-24  \n",
              "1    2014-08-15  \n",
              "2    2014-03-20  \n",
              "3    2014-04-23  \n",
              "4    2014-12-19  \n",
              "...         ...  \n",
              "8755 2014-11-07  \n",
              "8756 2014-05-20  \n",
              "8757 2014-04-08  \n",
              "8758 2014-01-27  \n",
              "8759 2014-08-25  \n",
              "\n",
              "[8760 rows x 9 columns]"
            ]
          },
          "execution_count": 43,
          "metadata": {},
          "output_type": "execute_result"
        }
      ],
      "source": [
        "df_main"
      ]
    },
    {
      "cell_type": "code",
      "execution_count": 44,
      "id": "45a96f5d",
      "metadata": {},
      "outputs": [
        {
          "name": "stdout",
          "output_type": "stream",
          "text": [
            "Temiz Data export edildi: cleaned_data_export_excel.xlsx\n"
          ]
        }
      ],
      "source": [
        "#clean edilmis datanin excele export edilmesi\n",
        "Chevirme= 'cleaned_data_export_excel.xlsx'\n",
        "df_main.to_excel(Chevirme, index=False)\n",
        "print(\"Temiz Data export edildi:\", Chevirme)\n"
      ]
    },
    {
      "cell_type": "code",
      "execution_count": 45,
      "id": "b4c92370",
      "metadata": {
        "id": "b4c92370"
      },
      "outputs": [],
      "source": [
        "df_main1=df_main.drop(['day','month','year'], axis=1,inplace=True)"
      ]
    },
    {
      "cell_type": "code",
      "execution_count": 46,
      "id": "d575974e",
      "metadata": {
        "colab": {
          "base_uri": "https://localhost:8080/",
          "height": 423
        },
        "id": "d575974e",
        "outputId": "8975b60c-9b88-4bf7-b76e-0169bb7865e3"
      },
      "outputs": [],
      "source": [
        "df_main1"
      ]
    },
    {
      "cell_type": "code",
      "execution_count": 47,
      "id": "2732dda2",
      "metadata": {
        "id": "2732dda2"
      },
      "outputs": [],
      "source": [
        "df_main2=df_main[['clock','am_pm','date','day_of_week','electricity usage','kwh']]"
      ]
    },
    {
      "cell_type": "code",
      "execution_count": 48,
      "id": "493373dc",
      "metadata": {
        "colab": {
          "base_uri": "https://localhost:8080/",
          "height": 206
        },
        "id": "493373dc",
        "outputId": "ed7708e1-0d73-40c9-e93e-f735ad1c7b36"
      },
      "outputs": [
        {
          "data": {
            "text/html": [
              "<div>\n",
              "<style scoped>\n",
              "    .dataframe tbody tr th:only-of-type {\n",
              "        vertical-align: middle;\n",
              "    }\n",
              "\n",
              "    .dataframe tbody tr th {\n",
              "        vertical-align: top;\n",
              "    }\n",
              "\n",
              "    .dataframe thead th {\n",
              "        text-align: right;\n",
              "    }\n",
              "</style>\n",
              "<table border=\"1\" class=\"dataframe\">\n",
              "  <thead>\n",
              "    <tr style=\"text-align: right;\">\n",
              "      <th></th>\n",
              "      <th>clock</th>\n",
              "      <th>am_pm</th>\n",
              "      <th>date</th>\n",
              "      <th>day_of_week</th>\n",
              "      <th>electricity usage</th>\n",
              "      <th>kwh</th>\n",
              "    </tr>\n",
              "  </thead>\n",
              "  <tbody>\n",
              "    <tr>\n",
              "      <th>0</th>\n",
              "      <td>3</td>\n",
              "      <td>PM</td>\n",
              "      <td>2014-03-24</td>\n",
              "      <td>Monday</td>\n",
              "      <td>0.384</td>\n",
              "      <td>kwh</td>\n",
              "    </tr>\n",
              "    <tr>\n",
              "      <th>1</th>\n",
              "      <td>5</td>\n",
              "      <td>AM</td>\n",
              "      <td>2014-08-15</td>\n",
              "      <td>Friday</td>\n",
              "      <td>1.201</td>\n",
              "      <td>kwh</td>\n",
              "    </tr>\n",
              "    <tr>\n",
              "      <th>2</th>\n",
              "      <td>8</td>\n",
              "      <td>PM</td>\n",
              "      <td>2014-03-20</td>\n",
              "      <td>Thursday</td>\n",
              "      <td>1.523</td>\n",
              "      <td>kwh</td>\n",
              "    </tr>\n",
              "    <tr>\n",
              "      <th>3</th>\n",
              "      <td>6</td>\n",
              "      <td>PM</td>\n",
              "      <td>2014-04-23</td>\n",
              "      <td>Wednesday</td>\n",
              "      <td>0.424</td>\n",
              "      <td>kwh</td>\n",
              "    </tr>\n",
              "    <tr>\n",
              "      <th>4</th>\n",
              "      <td>1</td>\n",
              "      <td>AM</td>\n",
              "      <td>2014-12-19</td>\n",
              "      <td>Friday</td>\n",
              "      <td>0.209</td>\n",
              "      <td>kwh</td>\n",
              "    </tr>\n",
              "  </tbody>\n",
              "</table>\n",
              "</div>"
            ],
            "text/plain": [
              "  clock am_pm       date day_of_week electricity usage  kwh\n",
              "0     3    PM 2014-03-24      Monday             0.384  kwh\n",
              "1     5    AM 2014-08-15      Friday             1.201  kwh\n",
              "2     8    PM 2014-03-20    Thursday             1.523  kwh\n",
              "3     6    PM 2014-04-23   Wednesday             0.424  kwh\n",
              "4     1    AM 2014-12-19      Friday             0.209  kwh"
            ]
          },
          "execution_count": 48,
          "metadata": {},
          "output_type": "execute_result"
        }
      ],
      "source": [
        "df_main2.head()"
      ]
    },
    {
      "cell_type": "markdown",
      "id": "VhTUHQOieUsg",
      "metadata": {
        "id": "VhTUHQOieUsg"
      },
      "source": [
        "1.Orta saatlıq elektrik istifadəniz nə qədərdir? ---------- b. 0,782 kVt/saat"
      ]
    },
    {
      "cell_type": "code",
      "execution_count": 49,
      "id": "dvXioL60d_h_",
      "metadata": {
        "colab": {
          "base_uri": "https://localhost:8080/"
        },
        "id": "dvXioL60d_h_",
        "outputId": "f0586289-b612-4d5c-f841-d84aa92396f3"
      },
      "outputs": [],
      "source": [
        "df_main2['electricity usage'] = df_main2['electricity usage'].astype(float)"
      ]
    },
    {
      "cell_type": "code",
      "execution_count": 50,
      "id": "coP2x5cMd7GR",
      "metadata": {
        "colab": {
          "base_uri": "https://localhost:8080/"
        },
        "id": "coP2x5cMd7GR",
        "outputId": "9d57504a-b12b-4584-e2d2-ea7377c028f6"
      },
      "outputs": [
        {
          "data": {
            "text/plain": [
              "0.7818779680365298"
            ]
          },
          "execution_count": 50,
          "metadata": {},
          "output_type": "execute_result"
        }
      ],
      "source": [
        "average_hourly_usage = df_main2[\"electricity usage\"].mean()\n",
        "average_hourly_usage"
      ]
    },
    {
      "cell_type": "markdown",
      "id": "flbuzls1eiav",
      "metadata": {
        "id": "flbuzls1eiav"
      },
      "source": [
        "2.Fevral ayında saatda orta hesabla nə qədər elektrik istifadə edilir? ----d. 0,833 kVt/saat"
      ]
    },
    {
      "cell_type": "code",
      "execution_count": 51,
      "id": "EWYOoSAsemqM",
      "metadata": {
        "colab": {
          "base_uri": "https://localhost:8080/"
        },
        "id": "EWYOoSAsemqM",
        "outputId": "d4db87c7-a6f4-4d09-9e21-5b9c5cea824f"
      },
      "outputs": [
        {
          "data": {
            "text/plain": [
              "0.8329151785714286"
            ]
          },
          "execution_count": 51,
          "metadata": {},
          "output_type": "execute_result"
        }
      ],
      "source": [
        "february_data = df_main2[df_main2['date'].dt.month == 2]\n",
        "\n",
        "average_usage_february = february_data[\"electricity usage\"].mean()\n",
        "average_usage_february"
      ]
    },
    {
      "cell_type": "markdown",
      "id": "CloYz2YifMy9",
      "metadata": {
        "id": "CloYz2YifMy9"
      },
      "source": [
        "3.Həftənin hansı günü ən yüksək orta istifadəyə malikdir? ----------- a. sunday"
      ]
    },
    {
      "cell_type": "code",
      "execution_count": 52,
      "id": "eE_uit2qfPvW",
      "metadata": {
        "colab": {
          "base_uri": "https://localhost:8080/"
        },
        "id": "eE_uit2qfPvW",
        "outputId": "de51a461-e5a0-4cbd-f746-e3f23e5c229f"
      },
      "outputs": [
        {
          "name": "stdout",
          "output_type": "stream",
          "text": [
            "Ən Yüksək Orta sərfiyyat olunan gün: Sunday\n",
            "Ən Yüksək Orta sərfiyyat: 0.8981570512820514\n"
          ]
        }
      ],
      "source": [
        "average_usage_per_day = df_main2.groupby(\"day_of_week\")[\"electricity usage\"].mean()\n",
        "\n",
        "highest_average_day = average_usage_per_day.idxmax()\n",
        "highest_average_value = average_usage_per_day.max()\n",
        "\n",
        "print(\"Ən Yüksək Orta sərfiyyat olunan gün:\", highest_average_day)\n",
        "print(\"Ən Yüksək Orta sərfiyyat:\", highest_average_value)"
      ]
    },
    {
      "cell_type": "markdown",
      "id": "ftPpe-LmffUl",
      "metadata": {
        "id": "ftPpe-LmffUl"
      },
      "source": [
        "4.Davamlı 4 saat ərzində istifadə olunan ən elektrik enerjisi nə qədərdir?- a. 17,237 kVt/saat"
      ]
    },
    {
      "cell_type": "code",
      "execution_count": 53,
      "id": "Z52EIejhfmNE",
      "metadata": {
        "colab": {
          "base_uri": "https://localhost:8080/"
        },
        "id": "Z52EIejhfmNE",
        "outputId": "096b4f88-d20d-4274-b92b-6c37530f00d8"
      },
      "outputs": [
        {
          "name": "stdout",
          "output_type": "stream",
          "text": [
            "Davamli 4 saatliq müddətdə istifadə edilən ən yüksək elektrik enerjisi: 10.594\n"
          ]
        }
      ],
      "source": [
        "# AM/PM ilə \"saat\" sütununu tarixə çeviririk\n",
        "df_main['timestamp'] = pd.to_datetime(df_main2['clock'].astype(str) + df_main2['am_pm'], format='%I%p')\n",
        "\n",
        "# DataFrame-i tarix və vaxt duzuruk\n",
        "df_main.sort_values(by=[\"date\", \"timestamp\"], inplace=True)\n",
        "\n",
        "# Hər 4 saatlıq period üçün elektrik istifadəsinin cəmini hesablayıriq\n",
        "max_sum = 0\n",
        "for i in range(len(df_main2) - 3):\n",
        "    sum_usage = df_main2[\"electricity usage\"].iloc[i:i+4].sum()\n",
        "    max_sum = max(max_sum, sum_usage)\n",
        "\n",
        "print(\"Davamli 4 saatliq müddətdə istifadə edilən ən yüksək elektrik enerjisi:\", max_sum)"
      ]
    },
    {
      "cell_type": "markdown",
      "id": "VE_3qJjYgyB1",
      "metadata": {
        "id": "VE_3qJjYgyB1"
      },
      "source": [
        "5 ve 6 ci suallari hell etmek ucun melumat eksikdir. Price yoxdur"
      ]
    },
    {
      "cell_type": "code",
      "execution_count": 54,
      "id": "ea12c5fc",
      "metadata": {},
      "outputs": [
        {
          "data": {
            "image/png": "[encoded data removed]",
            "text/plain": [
              "<Figure size 1400x800 with 1 Axes>"
            ]
          },
          "metadata": {},
          "output_type": "display_data"
        }
      ],
      "source": [
        "import matplotlib.pyplot as plt\n",
        "import seaborn as sns\n",
        "plt.figure(figsize=(14, 8))\n",
        "sns.barplot(x=\"day_of_week\", y=\"electricity usage\", data=df_main2, hue=\"am_pm\")\n",
        "plt.title(\"Electricity Usage by Day of Week\")\n",
        "plt.show()\n",
        "\n"
      ]
    },
    {
      "cell_type": "code",
      "execution_count": 55,
      "id": "0c497fd9",
      "metadata": {},
      "outputs": [
        {
          "data": {
            "text/html": [
              "<div>\n",
              "<style scoped>\n",
              "    .dataframe tbody tr th:only-of-type {\n",
              "        vertical-align: middle;\n",
              "    }\n",
              "\n",
              "    .dataframe tbody tr th {\n",
              "        vertical-align: top;\n",
              "    }\n",
              "\n",
              "    .dataframe thead th {\n",
              "        text-align: right;\n",
              "    }\n",
              "</style>\n",
              "<table border=\"1\" class=\"dataframe\">\n",
              "  <thead>\n",
              "    <tr style=\"text-align: right;\">\n",
              "      <th></th>\n",
              "      <th>clock</th>\n",
              "      <th>am_pm</th>\n",
              "      <th>date</th>\n",
              "      <th>day_of_week</th>\n",
              "      <th>electricity usage</th>\n",
              "      <th>kwh</th>\n",
              "    </tr>\n",
              "  </thead>\n",
              "  <tbody>\n",
              "    <tr>\n",
              "      <th>0</th>\n",
              "      <td>3</td>\n",
              "      <td>PM</td>\n",
              "      <td>2014-03-24</td>\n",
              "      <td>Monday</td>\n",
              "      <td>0.384</td>\n",
              "      <td>kwh</td>\n",
              "    </tr>\n",
              "    <tr>\n",
              "      <th>1</th>\n",
              "      <td>5</td>\n",
              "      <td>AM</td>\n",
              "      <td>2014-08-15</td>\n",
              "      <td>Friday</td>\n",
              "      <td>1.201</td>\n",
              "      <td>kwh</td>\n",
              "    </tr>\n",
              "    <tr>\n",
              "      <th>2</th>\n",
              "      <td>8</td>\n",
              "      <td>PM</td>\n",
              "      <td>2014-03-20</td>\n",
              "      <td>Thursday</td>\n",
              "      <td>1.523</td>\n",
              "      <td>kwh</td>\n",
              "    </tr>\n",
              "    <tr>\n",
              "      <th>3</th>\n",
              "      <td>6</td>\n",
              "      <td>PM</td>\n",
              "      <td>2014-04-23</td>\n",
              "      <td>Wednesday</td>\n",
              "      <td>0.424</td>\n",
              "      <td>kwh</td>\n",
              "    </tr>\n",
              "    <tr>\n",
              "      <th>4</th>\n",
              "      <td>1</td>\n",
              "      <td>AM</td>\n",
              "      <td>2014-12-19</td>\n",
              "      <td>Friday</td>\n",
              "      <td>0.209</td>\n",
              "      <td>kwh</td>\n",
              "    </tr>\n",
              "    <tr>\n",
              "      <th>...</th>\n",
              "      <td>...</td>\n",
              "      <td>...</td>\n",
              "      <td>...</td>\n",
              "      <td>...</td>\n",
              "      <td>...</td>\n",
              "      <td>...</td>\n",
              "    </tr>\n",
              "    <tr>\n",
              "      <th>8755</th>\n",
              "      <td>1</td>\n",
              "      <td>AM</td>\n",
              "      <td>2014-11-07</td>\n",
              "      <td>Friday</td>\n",
              "      <td>0.084</td>\n",
              "      <td>kwh</td>\n",
              "    </tr>\n",
              "    <tr>\n",
              "      <th>8756</th>\n",
              "      <td>6</td>\n",
              "      <td>AM</td>\n",
              "      <td>2014-05-20</td>\n",
              "      <td>Tuesday</td>\n",
              "      <td>1.027</td>\n",
              "      <td>kwh</td>\n",
              "    </tr>\n",
              "    <tr>\n",
              "      <th>8757</th>\n",
              "      <td>2</td>\n",
              "      <td>AM</td>\n",
              "      <td>2014-04-08</td>\n",
              "      <td>Tuesday</td>\n",
              "      <td>0.052</td>\n",
              "      <td>kwh</td>\n",
              "    </tr>\n",
              "    <tr>\n",
              "      <th>8758</th>\n",
              "      <td>9</td>\n",
              "      <td>PM</td>\n",
              "      <td>2014-01-27</td>\n",
              "      <td>Monday</td>\n",
              "      <td>1.428</td>\n",
              "      <td>kwh</td>\n",
              "    </tr>\n",
              "    <tr>\n",
              "      <th>8759</th>\n",
              "      <td>12</td>\n",
              "      <td>PM</td>\n",
              "      <td>2014-08-25</td>\n",
              "      <td>Monday</td>\n",
              "      <td>0.528</td>\n",
              "      <td>kwh</td>\n",
              "    </tr>\n",
              "  </tbody>\n",
              "</table>\n",
              "<p>8760 rows × 6 columns</p>\n",
              "</div>"
            ],
            "text/plain": [
              "     clock am_pm       date day_of_week  electricity usage  kwh\n",
              "0        3    PM 2014-03-24      Monday              0.384  kwh\n",
              "1        5    AM 2014-08-15      Friday              1.201  kwh\n",
              "2        8    PM 2014-03-20    Thursday              1.523  kwh\n",
              "3        6    PM 2014-04-23   Wednesday              0.424  kwh\n",
              "4        1    AM 2014-12-19      Friday              0.209  kwh\n",
              "...    ...   ...        ...         ...                ...  ...\n",
              "8755     1    AM 2014-11-07      Friday              0.084  kwh\n",
              "8756     6    AM 2014-05-20     Tuesday              1.027  kwh\n",
              "8757     2    AM 2014-04-08     Tuesday              0.052  kwh\n",
              "8758     9    PM 2014-01-27      Monday              1.428  kwh\n",
              "8759    12    PM 2014-08-25      Monday              0.528  kwh\n",
              "\n",
              "[8760 rows x 6 columns]"
            ]
          },
          "execution_count": 55,
          "metadata": {},
          "output_type": "execute_result"
        }
      ],
      "source": [
        "df_main2"
      ]
    },
    {
      "cell_type": "code",
      "execution_count": 56,
      "id": "22c4f8b4",
      "metadata": {},
      "outputs": [
        {
          "data": {
            "image/png": "[encoded data removed]",
            "text/plain": [
              "<Figure size 1000x600 with 1 Axes>"
            ]
          },
          "metadata": {},
          "output_type": "display_data"
        }
      ],
      "source": [
        "import pandas as pd\n",
        "import matplotlib.pyplot as plt\n",
        "hourly_avg = df_main2.groupby(\"clock\")[\"electricity usage\"].mean()\n",
        "plt.figure(figsize=(10, 6))\n",
        "plt.title(\"Electricity Usage by Hour\")\n",
        "plt.xlabel(\"Clock\")\n",
        "plt.ylabel(\"Average Electricity Usage (kWh)\")\n",
        "plt.plot(hourly_avg.index, hourly_avg.values, marker='o')\n",
        "plt.xticks(hourly_avg.index)\n",
        "plt.show()\n"
      ]
    }
  ],
  "metadata": {
    "colab": {
      "provenance": []
    },
    "kernelspec": {
      "display_name": "Python 3 (ipykernel)",
      "language": "python",
      "name": "python3"
    },
    "language_info": {
      "codemirror_mode": {
        "name": "ipython",
        "version": 3
      },
      "file_extension": ".py",
      "mimetype": "text/x-python",
      "name": "python",
      "nbconvert_exporter": "python",
      "pygments_lexer": "ipython3",
      "version": "3.9.13"
    }
  },
  "nbformat": 4,
  "nbformat_minor": 5
}
